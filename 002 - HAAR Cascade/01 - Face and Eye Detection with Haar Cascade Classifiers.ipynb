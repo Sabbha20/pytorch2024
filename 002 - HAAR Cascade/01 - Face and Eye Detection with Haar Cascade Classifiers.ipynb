{
 "cells": [
  {
   "cell_type": "markdown",
   "id": "a9c92a9b-40da-45ab-964e-605427c6994f",
   "metadata": {},
   "source": [
    "# **Face and Eye Detection with Haar Cascade Classifiers**\n",
    "\n",
    "#### **In this lesson we'll learn:**\n",
    "1. To use a Haarcascade Classifer to detect faces\n",
    "2. To use a Haarcascade Classifer to detect eyes\n",
    "3. To use a Haarcascade Classifer to detect faces and eyes from your webcam in Colab"
   ]
  },
  {
   "cell_type": "code",
   "execution_count": 2,
   "id": "71367182-8080-404d-842c-4c7a8fd9e279",
   "metadata": {},
   "outputs": [],
   "source": [
    "import cv2\n",
    "import numpy\n",
    "import matplotlib.pyplot as plt"
   ]
  },
  {
   "cell_type": "code",
   "execution_count": 3,
   "id": "f8610c48-0e68-4380-9b61-8e6c98101686",
   "metadata": {},
   "outputs": [],
   "source": [
    "def cv_imshow(title=\"Image\", image = None, size=20):\n",
    "    w, h = image.shape[:2]\n",
    "    aspect_ratio = w/h\n",
    "    plt.figure(figsize=(size*aspect_ratio,size))\n",
    "    plt.imshow(cv2.cvtColor(image, cv2.COLOR_BGR2RGB))\n",
    "    plt.title(title)\n",
    "    plt.show()"
   ]
  },
  {
   "cell_type": "markdown",
   "id": "481a338c-e456-403a-85a3-ff728428476a",
   "metadata": {},
   "source": [
    "## **Simple Face Detection using Haarcascade Classifiers**\n",
    "\n",
    "### **Firstly, What is Object Detection?**\n",
    "\n",
    "![](https://miro.medium.com/max/739/1*zlWrCk1hBBFRXa5t84lmHQ.jpeg)\n",
    "\n",
    "**Object Detection** is the ability to detect and classify individual objects in an image and draw a bounding box over the object's area. "
   ]
  },
  {
   "cell_type": "markdown",
   "id": "53d7b960-7b5a-43d9-a544-9721afc78b04",
   "metadata": {},
   "source": [
    "## **HAAR Cascade Classifiers**\n",
    "\n",
    "Developed by Viola and Jones in 2001.\n",
    "\n",
    "An object detection method that uses a series of classifiers (cascade) to identify objects in an image. They are trained to identify one type of object, however, we can use several of them in parallel e.g. detecting eyes and faces together. HAAR Classifiers are trained using lots of positive images (i.e. images with the object present) and negative images (i.e. images without the object present).\n",
    "![](https://github.com/rajeevratan84/ModernComputerVision/raw/main/haar.png)\n"
   ]
  },
  {
   "cell_type": "code",
   "execution_count": 5,
   "id": "b41d344a-451d-4a74-a4da-89604c3d8736",
   "metadata": {},
   "outputs": [
    {
     "data": {
      "text/plain": [
       "< cv2.CascadeClassifier 0x1215276b0>"
      ]
     },
     "execution_count": 5,
     "metadata": {},
     "output_type": "execute_result"
    }
   ],
   "source": [
    "# We point OpenCV's CascadeClassifier function to where our \n",
    "# classifier (XML file format) is stored\n",
    "\n",
    "face_classifier = cv2.CascadeClassifier(\"../data/Haarcascades/haarcascade_frontalface_default.xml\")\n",
    "face_classifier"
   ]
  },
  {
   "cell_type": "code",
   "execution_count": null,
   "id": "a49a9938-7783-4d5d-8b23-bcb876e040bc",
   "metadata": {},
   "outputs": [],
   "source": [
    "# Load our image then convert it to grayscale\n",
    "\n"
   ]
  }
 ],
 "metadata": {
  "kernelspec": {
   "display_name": "Python 3 (ipykernel)",
   "language": "python",
   "name": "python3"
  },
  "language_info": {
   "codemirror_mode": {
    "name": "ipython",
    "version": 3
   },
   "file_extension": ".py",
   "mimetype": "text/x-python",
   "name": "python",
   "nbconvert_exporter": "python",
   "pygments_lexer": "ipython3",
   "version": "3.12.4"
  }
 },
 "nbformat": 4,
 "nbformat_minor": 5
}
